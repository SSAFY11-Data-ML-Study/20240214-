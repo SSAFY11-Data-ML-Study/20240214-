{
  "nbformat": 4,
  "nbformat_minor": 0,
  "metadata": {
    "colab": {
      "provenance": [],
      "authorship_tag": "ABX9TyOUeqEoB83+RU3OfZ0L6NGk"
    },
    "kernelspec": {
      "name": "python3",
      "display_name": "Python 3"
    },
    "language_info": {
      "name": "python"
    }
  },
  "cells": [
    {
      "cell_type": "markdown",
      "source": [
        "Data: https://www.kaggle.com/datasets/kimjmin/seoul-metro-usage"
      ],
      "metadata": {
        "id": "Pg4y4U9Cddg9"
      }
    },
    {
      "cell_type": "markdown",
      "source": [
        "# **목표: 시간대별 지하철 이용자 수 예측**"
      ],
      "metadata": {
        "id": "2AYnuszrjPY6"
      }
    },
    {
      "cell_type": "markdown",
      "source": [
        "목차:  \n",
        "0. 라이브러리 호출  \n",
        "1. 파일 입력  \n",
        "2. 데이터 정제  \n",
        "2-1. 키 값 확인  \n",
        "2-2. 역 메타데이터 정리 (중복 열 제거)  \n",
        "2-3. 로그 데이터 정리  \n",
        "2-4. Null값 확인  \n",
        "2-4-1. 역 메타데이터의 Null값 확인  \n",
        "2-4-2. 로그 데이터의 Null값 확인  \n",
        "2-4-2-1. 로그 데이터 속 Null 값 확인  \n",
        "2-4-2-2. Null 값 없애기  \n",
        "2-5. 의미있는 정보 만들기  \n",
        "3. 데이터 시각화  \n",
        "  3.1. 데이터 히트맵"
      ],
      "metadata": {
        "id": "mRQu5XUCGPiR"
      }
    },
    {
      "cell_type": "markdown",
      "source": [
        "# 0. 라이브러리 호출 #"
      ],
      "metadata": {
        "id": "uN6b-kBIchey"
      }
    },
    {
      "cell_type": "code",
      "source": [
        "import pandas as pd"
      ],
      "metadata": {
        "id": "rE9VMEg_ccVi"
      },
      "execution_count": 4,
      "outputs": []
    },
    {
      "cell_type": "markdown",
      "source": [
        "# 1. 파일 입력 #"
      ],
      "metadata": {
        "id": "pwMC61l1cpFJ"
      }
    },
    {
      "cell_type": "code",
      "source": [
        "!dir"
      ],
      "metadata": {
        "colab": {
          "base_uri": "https://localhost:8080/"
        },
        "id": "MRYjN9dZjyeY",
        "outputId": "a42e3a79-5923-4d84-d4b6-dbba013a5009"
      },
      "execution_count": 5,
      "outputs": [
        {
          "output_type": "stream",
          "name": "stdout",
          "text": [
            "sample_data\n"
          ]
        }
      ]
    },
    {
      "cell_type": "code",
      "source": [
        "df_logs_2015 = pd.read_csv(\"/content/sample_data/seoul-metro-2015.logs.csv\")\n",
        "df_logs_2016 = pd.read_csv(\"/content/sample_data/seoul-metro-2016.logs.csv\")\n",
        "df_logs_2017 = pd.read_csv(\"/content/sample_data/seoul-metro-2017.logs.csv\")\n",
        "df_logs_2018 = pd.read_csv(\"/content/sample_data/seoul-metro-2018.logs.csv\")\n",
        "df_logs_2019 = pd.read_csv(\"/content/sample_data/seoul-metro-2019.logs.csv\")\n",
        "df_logs_2020 = pd.read_csv(\"/content/sample_data/seoul-metro-2020.logs.csv\")\n",
        "df_logs_2021 = pd.read_csv(\"/content/sample_data/seoul-metro-2021.logs.csv\")\n",
        "df_station_info = pd.read_csv(\"/content/sample_data/seoul-metro-station-info.csv\")"
      ],
      "metadata": {
        "id": "Z_Oj-NNtcorx"
      },
      "execution_count": 9,
      "outputs": []
    },
    {
      "cell_type": "markdown",
      "source": [
        "# 2. 데이터 정제"
      ],
      "metadata": {
        "id": "rCxKBN7Ehd36"
      }
    },
    {
      "cell_type": "markdown",
      "source": [
        "## 2-1. 키 값 확인"
      ],
      "metadata": {
        "id": "vZ98fHj-hjgo"
      }
    },
    {
      "cell_type": "code",
      "source": [
        "df_station_info.keys()"
      ],
      "metadata": {
        "id": "L4yayD3dcoIR"
      },
      "execution_count": null,
      "outputs": []
    },
    {
      "cell_type": "code",
      "source": [
        "df_logs_2021.keys()"
      ],
      "metadata": {
        "id": "mTl2cM0VfnE4"
      },
      "execution_count": null,
      "outputs": []
    },
    {
      "cell_type": "markdown",
      "source": [
        "## df_station_info의 키 값\n",
        "station.code : 역 번호  \n",
        "station.fr_code: ??  \n",
        "line.num: 호선 번호  \n",
        "line.name: 호선 이름  \n",
        "line.name_sub: 호선 이름  \n",
        "line.station_seq: 호선별 번호  \n",
        "station.name_full: 역 이름(전체)  \n",
        "station.name: 역 이름  \n",
        "station.name_chc: 역 이름(한자)  \n",
        "station.name_chn: 역 이름(중국어)  \n",
        "station.name_en: 역 이름(영어)  \n",
        "station.name_jp: 역 이름(일본어)  \n",
        "geo.latitude: 위도  \n",
        "geo.longitude: 경도  \n",
        "geo.sigungu_code: 역이 속해있는 구 번호  \n",
        "geo.sigungu_name: 역이 속해있는 구 이름  \n",
        "geo.address_road: 도로명 주소  \n",
        "geo.address_land: 지명 주소  \n",
        "geo.phone: 역 전화번호  \n",
        "  \n",
        "## df_logs의 키 값  \n",
        "timestamp: 시간  \n",
        "station_code: 역 번호(df_station_info와 연결)  \n",
        "people_in: 들어온 사람 수  \n",
        "people_out: 나간 사람 수  "
      ],
      "metadata": {
        "id": "0byTpQkOd_Tp"
      }
    },
    {
      "cell_type": "markdown",
      "source": [
        "## 2-2. 역 메타데이터 정리 (중복 열 제거)"
      ],
      "metadata": {
        "id": "dRntAetbhqHg"
      }
    },
    {
      "cell_type": "markdown",
      "source": [],
      "metadata": {
        "id": "sMuUOSujicgf"
      }
    },
    {
      "cell_type": "markdown",
      "source": [
        "### *Idea-1) 역 이름(전체), 역 이름, 역 이름(중국어), 역 이름(한자), 역 이름(영어), 역 이름(일본어),는 모두 같은 항목이다.*  \n",
        "### *Solution-1) 따라서 역 이름을 제외하고 제거해준다.*"
      ],
      "metadata": {
        "id": "NWhwlNv6hvMS"
      }
    },
    {
      "cell_type": "code",
      "source": [
        "df_station_info.drop(columns=['station.name_chc'],inplace=True)\n",
        "df_station_info.drop(columns=['station.name_chn'],inplace=True)\n",
        "df_station_info.drop(columns=['station.name_jp'],inplace=True)\n",
        "df_station_info.drop(columns=['station.name_en'],inplace=True)\n",
        "df_station_info.drop(columns=['station.name_full'],inplace=True)"
      ],
      "metadata": {
        "id": "l8GZjg30ikwh"
      },
      "execution_count": null,
      "outputs": []
    },
    {
      "cell_type": "markdown",
      "source": [
        "### *Idea-2) 호선 번호, 호선 이름, 호선 번호는 모두 같은 항목이다.*  \n",
        "### *Solution-2) 따라서 호선 번호를 제외하고 제거해준다.*"
      ],
      "metadata": {
        "id": "yZKy1ZjSkN6I"
      }
    },
    {
      "cell_type": "code",
      "source": [
        "df_station_info.drop(columns=['line.name'],inplace=True)\n",
        "df_station_info.drop(columns=['line.name_sub'],inplace=True)"
      ],
      "metadata": {
        "id": "gJEGHRH8jF5R"
      },
      "execution_count": null,
      "outputs": []
    },
    {
      "cell_type": "markdown",
      "source": [
        "### *Idea-3) 역이 속해있는 구 번호와 역이 속해있는 구 이름은 같은 항목이다.*  \n",
        "### *Solution-3) 따라서 역이 속해있는 구 이름을 제외하고 제거해준다.*"
      ],
      "metadata": {
        "id": "Z9QNolHvlbg3"
      }
    },
    {
      "cell_type": "code",
      "source": [
        "df_station_info.drop(columns=['geo.sigungu_code'],inplace=True)"
      ],
      "metadata": {
        "id": "K12xukz3lZpw"
      },
      "execution_count": null,
      "outputs": []
    },
    {
      "cell_type": "markdown",
      "source": [
        "### *Idea-4) 호선별 번호, 위도, 경도, 도로명 주소, 지명 주소, 역 전화번호는 데이터의 목적과 부합하지 않는다.*  \n",
        "### *Solution-4) 따라서 해당하는 모든 열을 제거한다.*"
      ],
      "metadata": {
        "id": "MxziX-mQmme4"
      }
    },
    {
      "cell_type": "code",
      "source": [
        "df_station_info.drop(columns=['line.station_seq'],inplace=True) # inplace=True를 넣어줘야 원본 df가 바뀌는 구나\n",
        "df_station_info.drop(columns=['geo.latitude'],inplace=True)\n",
        "df_station_info.drop(columns=['geo.longitude'],inplace=True)\n",
        "df_station_info.drop(columns=['geo.addres_road'],inplace=True)\n",
        "df_station_info.drop(columns=['geo.address_land'],inplace=True)\n",
        "df_station_info.drop(columns=['geo.phone'],inplace=True)"
      ],
      "metadata": {
        "id": "fpXBV6Pqmgbh"
      },
      "execution_count": null,
      "outputs": []
    },
    {
      "cell_type": "code",
      "source": [
        "df_station_info"
      ],
      "metadata": {
        "id": "PheRVGbFm344"
      },
      "execution_count": null,
      "outputs": []
    },
    {
      "cell_type": "markdown",
      "source": [
        "## 중복 열을 제거하고 지하철 메타데이터의 남은 키 값은 다음과 같다.\n",
        "station.code : 역 번호  \n",
        "station.fr_code: ??  \n",
        "line.num: 호선 번호    \n",
        "station.name: 역 이름  \n",
        "geo.sigungu_name: 역이 속해있는 구 이름  "
      ],
      "metadata": {
        "id": "_dl9Ra2fnkYY"
      }
    },
    {
      "cell_type": "markdown",
      "source": [
        "## 2-3. 로그 데이터 정리"
      ],
      "metadata": {
        "id": "5Hx4iV_I8YAM"
      }
    },
    {
      "cell_type": "code",
      "source": [
        "year_list = [\"2015\",\"2016\",\"2017\",\"2018\",\"2019\",\"2020\",\"2021\"]"
      ],
      "metadata": {
        "id": "W8RQPWLvp_o-"
      },
      "execution_count": null,
      "outputs": []
    },
    {
      "cell_type": "code",
      "source": [
        "df_list = []\n",
        "for i in range(len(year_list)):\n",
        "  df_list.append(globals()[\"df_logs_\"+year_list[i]]) #globals() 함수를 통해 df를 리스트에 담을 수 있구나"
      ],
      "metadata": {
        "id": "mRefd3lo4HcU"
      },
      "execution_count": null,
      "outputs": []
    },
    {
      "cell_type": "markdown",
      "source": [
        "### *Idea-1) 시간대 별 예측을 위한 데이터에 일자 정보는 필요 없다. 그리고 시간 정보는 시간으로 정확히 나누어 떨어진다.*  \n",
        "### *Solution-1) timestamp열을 시간 값을 제외하고 지우자*"
      ],
      "metadata": {
        "id": "luM1j8qR9Dmi"
      }
    },
    {
      "cell_type": "code",
      "source": [
        "for df in df_list:\n",
        "  df['timestamp']=df['timestamp'].str[11:13]"
      ],
      "metadata": {
        "id": "UyYswyAk8izb"
      },
      "execution_count": null,
      "outputs": []
    },
    {
      "cell_type": "code",
      "source": [
        "df_logs_2018.tail()"
      ],
      "metadata": {
        "id": "rMA72SEl94Cj"
      },
      "execution_count": null,
      "outputs": []
    },
    {
      "cell_type": "markdown",
      "source": [
        "### *Idea-2) 나가는 사람의 수는 소수점일 수 없다.*  \n",
        "### *Solution-2) people_out열을 정수형으로 반환하자*"
      ],
      "metadata": {
        "id": "PS9N8RCr-R9T"
      }
    },
    {
      "cell_type": "code",
      "source": [
        "for df in df_list:\n",
        "  df['people_out']=df['people_out'].astype(int).astype(str)"
      ],
      "metadata": {
        "id": "b6qxE7dz-RUi"
      },
      "execution_count": null,
      "outputs": []
    },
    {
      "cell_type": "markdown",
      "source": [
        "### *Idea-2-1) 그러나 위 코드는 정상 작동하지 못한다. -> Null값이 포함되어 있기 때문*  \n",
        "### *Solution-2-1) 예외처리를 해주자*"
      ],
      "metadata": {
        "id": "8HfI2zON_0HJ"
      }
    },
    {
      "cell_type": "code",
      "source": [
        "for df in df_list:\n",
        "  try:\n",
        "    df['people_out']=df['people_out'].astype(int).astype(str) # df에서 astype(자료형)을 쓰면 해당 자료형으로 저장해주는구나\n",
        "  except:\n",
        "    pass"
      ],
      "metadata": {
        "id": "jBetImqRACZC"
      },
      "execution_count": null,
      "outputs": []
    },
    {
      "cell_type": "code",
      "source": [
        "df_logs_2018"
      ],
      "metadata": {
        "id": "7_IUzqaxAYyp"
      },
      "execution_count": null,
      "outputs": []
    },
    {
      "cell_type": "markdown",
      "source": [
        "### *Idea-2-2) 에러는 나지 않으나, 결과에 반영이 되지 않는다. 함수는 df 전체에 대해서 일괄 적용하는데, try-except로 해서 df 중 하나라도 걸리면 except로 넘어가기 때문*  \n",
        "### *Solution-2-2) Null값 처리를 해주자*"
      ],
      "metadata": {
        "id": "llvNwPi2Avib"
      }
    },
    {
      "cell_type": "markdown",
      "source": [
        "## 2-4. Null값 확인"
      ],
      "metadata": {
        "id": "E_dJukhFqTqG"
      }
    },
    {
      "cell_type": "markdown",
      "source": [
        "### 2-4-1. 역 메타데이터의 Null값 확인"
      ],
      "metadata": {
        "id": "P2UMf_7jrSVv"
      }
    },
    {
      "cell_type": "code",
      "source": [
        "null_counts = df_station_info.isnull().sum() # .isnull().sum()를 쓰면 nan값이 있는 행의 개수를 반환하는구나\n",
        "print(null_counts)"
      ],
      "metadata": {
        "id": "wMBuIm3lnfpo"
      },
      "execution_count": null,
      "outputs": []
    },
    {
      "cell_type": "markdown",
      "source": [
        "### 2-4-2. 로그 데이터의 Null값 확인"
      ],
      "metadata": {
        "id": "z9JGm4Sl5OGk"
      }
    },
    {
      "cell_type": "code",
      "source": [
        "for i in range(len(df_list)):\n",
        "  null_counts = df_list[i].isnull().sum()\n",
        "  print(year_list[i])\n",
        "  print(null_counts)\n",
        "  print()"
      ],
      "metadata": {
        "id": "k7AA-ePvrlz-"
      },
      "execution_count": null,
      "outputs": []
    },
    {
      "cell_type": "markdown",
      "source": [
        "### 2-4-2-1. 로그 데이터 속 Null 값 확인\n",
        "\n"
      ],
      "metadata": {
        "id": "k9WfimbZ6jAE"
      }
    },
    {
      "cell_type": "code",
      "source": [
        "df_logs_2018[df_logs_2018['people_out'].isna()] # .isna()를 쓰면 nan값이 있는 행만 반환하는구나"
      ],
      "metadata": {
        "id": "CkjCZCk26K8c"
      },
      "execution_count": null,
      "outputs": []
    },
    {
      "cell_type": "markdown",
      "source": [
        "### 2-4-2-2. Null 값 없애기"
      ],
      "metadata": {
        "id": "PytBtqhGBMyZ"
      }
    },
    {
      "cell_type": "markdown",
      "source": [
        "### *Idea-1) 시간대별 평균값은 같지 않을까?*  \n",
        "### *Solution-1) 동시간대 나간 사람 수의 평균으로 대체해주자*"
      ],
      "metadata": {
        "id": "1SLRCjy6HTKp"
      }
    },
    {
      "cell_type": "code",
      "source": [
        "avg_2018_out = df_logs_2018[df_logs_2018['timestamp']==\"08\"]['people_out'].mean()"
      ],
      "metadata": {
        "id": "pf2QUnfcJSn5"
      },
      "execution_count": null,
      "outputs": []
    },
    {
      "cell_type": "code",
      "source": [
        "avg_2018_out = int(avg_2018_out)"
      ],
      "metadata": {
        "id": "53mtUqunHxxQ"
      },
      "execution_count": null,
      "outputs": []
    },
    {
      "cell_type": "code",
      "source": [
        "df_logs_2018.at[98378,'people_out'] = avg_2018_out # iloc은 접근하고, 새로운 df를 반환하기 때문에 at을 써줘야 하는구나. at(행 번호, 열 이름)"
      ],
      "metadata": {
        "id": "HEPzDmnNJddI"
      },
      "execution_count": null,
      "outputs": []
    },
    {
      "cell_type": "code",
      "source": [
        "df_logs_2018.loc[98378]"
      ],
      "metadata": {
        "id": "lRn7Vi6QK1MA"
      },
      "execution_count": null,
      "outputs": []
    },
    {
      "cell_type": "code",
      "source": [
        "for i in range(len(df_list)):\n",
        "  null_counts = df_list[i].isnull().sum()\n",
        "  print(year_list[i])\n",
        "  print(null_counts)\n",
        "  print()"
      ],
      "metadata": {
        "id": "n6D3y7H_LL4_"
      },
      "execution_count": null,
      "outputs": []
    },
    {
      "cell_type": "code",
      "source": [
        "for df in df_list:\n",
        "  df['people_out']=df['people_out'].astype(int).astype(str)"
      ],
      "metadata": {
        "id": "EPnNuIxbLVko"
      },
      "execution_count": null,
      "outputs": []
    },
    {
      "cell_type": "code",
      "source": [
        "df_logs_2015.head()"
      ],
      "metadata": {
        "id": "966tMLO7LYv_"
      },
      "execution_count": null,
      "outputs": []
    },
    {
      "cell_type": "markdown",
      "source": [
        "## 2-5. 의미있는 정보 만들기"
      ],
      "metadata": {
        "id": "ZdIHBigaMPsA"
      }
    },
    {
      "cell_type": "markdown",
      "source": [
        "### *Idea-1) 이용자 수는 나간 사람과 들어온 사람의 합이다.*  \n",
        "### *Solution-1) people_in과 people_out을 합친 새로운 열을 만들어주자*"
      ],
      "metadata": {
        "id": "wJnB4SFUMUtX"
      }
    },
    {
      "cell_type": "code",
      "source": [
        "for i in range(len(df_list)):\n",
        "  df_list[i]['people_sum'] = df_list[i]['people_in'].astype(int)+df_list[i]['people_out'].astype(int)"
      ],
      "metadata": {
        "id": "dfeOnWFaMPbn"
      },
      "execution_count": null,
      "outputs": []
    },
    {
      "cell_type": "code",
      "source": [
        "df_logs_2015.tail()"
      ],
      "metadata": {
        "id": "oRbhlOCCRW7_"
      },
      "execution_count": null,
      "outputs": []
    },
    {
      "cell_type": "markdown",
      "source": [
        "### *Idea-2) 같은 시간대, 같은 station_code별로 people_sum을 합쳐보자*  \n",
        "### *Solution-2) groupby함수를 사용해서 묶어주자*"
      ],
      "metadata": {
        "id": "bNyfUXE2R2hG"
      }
    },
    {
      "cell_type": "code",
      "source": [
        "new_df = []\n",
        "for year in year_list:\n",
        "    new_df.append(\"new_df_\"+year)"
      ],
      "metadata": {
        "id": "8RZEA4qvR2Ke"
      },
      "execution_count": null,
      "outputs": []
    },
    {
      "cell_type": "code",
      "source": [
        "for i in range(len(new_df)):\n",
        "    globals()[new_df[i]] = df_list[i].groupby(['timestamp','station_code'])['people_sum'].sum().reset_index() #reset_index를 해야 인덱스 재설정으로 새로운 df가 예쁘게 생성"
      ],
      "metadata": {
        "id": "gsTR0CeiSzmf"
      },
      "execution_count": null,
      "outputs": []
    },
    {
      "cell_type": "markdown",
      "source": [
        "# 3. 데이터 시각화"
      ],
      "metadata": {
        "id": "iTsGwgHNX2GO"
      }
    },
    {
      "cell_type": "markdown",
      "source": [
        "## 3.1 사용자 수 히트맵"
      ],
      "metadata": {
        "id": "-xHkLS5YYVEU"
      }
    },
    {
      "cell_type": "code",
      "source": [
        "import numpy as np\n",
        "import matplotlib.pyplot as plt"
      ],
      "metadata": {
        "id": "flRrmgbNXRH9"
      },
      "execution_count": null,
      "outputs": []
    },
    {
      "cell_type": "code",
      "source": [
        "plt.rcParams['figure.figsize'] = [12,8]"
      ],
      "metadata": {
        "id": "OpYdICaaZ7qU"
      },
      "execution_count": null,
      "outputs": []
    },
    {
      "cell_type": "code",
      "source": [
        "for i in range(len(new_df)):\n",
        "    df = globals()[new_df[i]].pivot(index='timestamp', columns='station_code', values='people_sum')\n",
        "    plt.pcolor(df)\n",
        "    plt.xticks(np.arange(1, len(df.columns)+1), df.columns) # matplotlib은 눈금의 위치가 1부터 시작\n",
        "    plt.yticks(np.arange(1, len(df.index)+1), df.index)\n",
        "    plt.title(new_df[i], fontsize=20)\n",
        "    plt.xlabel('station_code', fontsize=14)\n",
        "    plt.ylabel('timestamp', fontsize=14)\n",
        "    plt.colorbar()\n",
        "    plt.show()\n"
      ],
      "metadata": {
        "id": "cSspRfOfYlre"
      },
      "execution_count": null,
      "outputs": []
    },
    {
      "cell_type": "markdown",
      "source": [
        "# 알게된 사실\n",
        "1. inplace=True를 넣어줘야 원본 df가 바뀜\n",
        "2. globals() 함수를 통해 df를 리스트에 담을 수 있음\n",
        "3. df에서 astype(자료형)을 쓰면 해당 자료형으로 저장\n",
        "4. .isnull().sum()를 쓰면 nan값이 있는 행의 개수를 반환\n",
        "5. .isna()를 쓰면 nan값이 있는 행만 반환\n",
        "6. iloc은 접근하고, 새로운 df를 반환하기 때문에 at을 써줘야 함. at(행 번호, 열 이름)\n",
        "7. 여러 개의 df global() 써서 동시에 다루기\n",
        "8. matplotlib은 눈금의 위치가 1부터 시작\n",
        "9. 히트맵 그리는 방법"
      ],
      "metadata": {
        "id": "iC8GXQf0cmGj"
      }
    },
    {
      "cell_type": "markdown",
      "source": [
        "# 궁금한 점\n",
        "1. global()을 줄일 순 없을까?\n",
        "2. 3차원 데이터를 좀 더 효율적으로 표현하는 방법은 없을까?\n"
      ],
      "metadata": {
        "id": "FecXiexndHTz"
      }
    },
    {
      "cell_type": "markdown",
      "source": [
        "# 추가적으로 했으면 좋았을 Task\n",
        "1. 요일별 정리\n",
        "2. 메타 데이터 활용 방안\n",
        "3. 어떤 역이 붐비는지 (총합 일정 범위 이하의 방문객들을 보유한 역의 행을 제거)"
      ],
      "metadata": {
        "id": "qOxmpbKVKQcJ"
      }
    }
  ]
}